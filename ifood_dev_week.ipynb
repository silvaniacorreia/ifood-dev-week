{
  "nbformat": 4,
  "nbformat_minor": 0,
  "metadata": {
    "colab": {
      "provenance": []
    },
    "kernelspec": {
      "name": "python3",
      "display_name": "Python 3"
    },
    "language_info": {
      "name": "python"
    }
  },
  "cells": [
    {
      "cell_type": "markdown",
      "source": [
        "# iFood Dev Week\n",
        "\n",
        "Saiba mais sobre essa semana incrível no Artigo [Desvendando a iFood Dev Week](https://www.dio.me/articles/desvendando-a-ifood-dev-week)."
      ],
      "metadata": {
        "id": "oPigZArHe3d_"
      }
    },
    {
      "cell_type": "markdown",
      "source": [
        "## Dia 1: Conheça o Google Colab e o Projeto Desta Dev Week\n",
        "\n",
        "Vamos mergulhar no Google Colab, aprendendo como ele pode ser usado para automatizar tarefas cotidianas, principalmente através da manipulação de planilhas. Além disso, você aprenderá na prática o conceito do Net Promoter Score (NPS), uma métrica fundamental para entender a satisfação do cliente."
      ],
      "metadata": {
        "id": "VJ9ncXpVjIz9"
      }
    },
    {
      "cell_type": "code",
      "source": [
        "\"\"\"\n",
        "Este código baixa um arquivo CSV de feedbacks do Google Drive e carrega os dados em um DataFrame pandas.\n",
        "\n",
        "O arquivo é identificado por um ID único ('file_id'), que é extraído da URL do arquivo no Google Drive.\n",
        "A URL do arquivo no Google Drive tem o seguinte formato:\n",
        "https://drive.google.com/file/d/FILE_ID/view?usp=sharing\n",
        "\"\"\"\n",
        "\n",
        "# TODO: Baixar o arquivo CSV do Google Drive e carregar seus dados em um DataFrame pandas.\n",
        "import gdown\n",
        "import pandas as pd\n",
        "\n",
        "file_id = '1_nyLNsT55X37Y0KDBXVXzSYsX-SoSqZi'\n",
        "gdown.download(f'https://drive.google.com/uc?id={file_id}', 'feedbacks.csv')\n",
        "\n",
        "dados = pd.read_csv('/content/feedbacks.csv', delimiter=';')"
      ],
      "metadata": {
        "colab": {
          "base_uri": "https://localhost:8080/"
        },
        "id": "kkErIaZvI9cV",
        "outputId": "1724efb0-8f2e-4654-8e9c-030f06782828"
      },
      "execution_count": 27,
      "outputs": [
        {
          "output_type": "stream",
          "name": "stderr",
          "text": [
            "Downloading...\n",
            "From: https://drive.google.com/uc?id=1_nyLNsT55X37Y0KDBXVXzSYsX-SoSqZi\n",
            "To: /content/feedbacks.csv\n",
            "100%|██████████| 351/351 [00:00<00:00, 1.65MB/s]\n"
          ]
        }
      ]
    },
    {
      "cell_type": "code",
      "execution_count": 28,
      "metadata": {
        "id": "pQo2iXQLPjnR",
        "colab": {
          "base_uri": "https://localhost:8080/"
        },
        "outputId": "c4d92add-6f2d-46fd-d620-1b6093e4f6bc"
      },
      "outputs": [
        {
          "output_type": "stream",
          "name": "stdout",
          "text": [
            "O nps é: 57.14285714285714\n"
          ]
        }
      ],
      "source": [
        "\"\"\"\n",
        "Versão 1: Paradigma Imperativo.\n",
        "\n",
        "Este script lê um arquivo CSV contendo feedback de usuários, no qual cada feedback tem uma nota associada.\n",
        "O NPS é calculado como a diferença entre o percentual de promotores (nota >= 9) e detratores (nota <= 6), multiplicada por 100.\n",
        "A implementação é realizada de uma maneira imperativa, onde os comandos são executados sequencialmente.\n",
        "\"\"\"\n",
        "\n",
        "import pandas as pd\n",
        "\n",
        "dados.head()\n",
        "\n",
        "detratores = 0\n",
        "promotores = 0\n",
        "\n",
        "notas = dados['nota']\n",
        "\n",
        "for nota in notas:\n",
        "  if nota >= 9:\n",
        "    promotores += 1\n",
        "  elif nota <= 6:\n",
        "    detratores += 1\n",
        "\n",
        "nps = (promotores - detratores) / len(notas) * 100\n",
        "print(f'O nps é: {nps}')"
      ]
    },
    {
      "cell_type": "code",
      "source": [
        "\"\"\"\n",
        "Versão 2: Paradigma Funcional.\n",
        "\n",
        "Este código segue uma abordagem funcional para calcular o NPS a partir dos dados de feedback.\n",
        "A função \"calcular_nps\" é definida para encapsular a lógica do cálculo do NPS. Esta versão apresenta\n",
        "uma separação de responsabilidades mais clara do que a versão imperativa, além de melhorias de código pontuais.\n",
        "\"\"\"\n",
        "\n",
        "import pandas as pd\n",
        "\n",
        "def calcular_nps(notas):\n",
        "  detratores = sum(notas.apply(lambda nota: nota <= 6))\n",
        "  promotores = notas[notas >= 9].count()\n",
        "\n",
        "  nps = (promotores - detratores) / len(notas) * 100\n",
        "\n",
        "  return nps\n",
        "\n",
        "notas = dados['nota']\n",
        "\n",
        "print(f'O nps é: {calcular_nps(notas)}')"
      ],
      "metadata": {
        "id": "-qLL6LQ1qcAR",
        "colab": {
          "base_uri": "https://localhost:8080/"
        },
        "outputId": "cda3f951-fec2-4426-c796-95ed04c8ee31"
      },
      "execution_count": 29,
      "outputs": [
        {
          "output_type": "stream",
          "name": "stdout",
          "text": [
            "O nps é: 57.14285714285714\n"
          ]
        }
      ]
    },
    {
      "cell_type": "code",
      "source": [
        "\"\"\"\n",
        "Versão 3: Paradigma Orientado a Objetos (POO).\n",
        "\n",
        "Este script adota uma abordagem Orientada a Objetos (OO) para calcular o NPS a partir de feedback de usuários.\n",
        "Duas classes são definidas, onde:\n",
        "- Feedback representa um único feedback de usuário;\n",
        "- AnalisadorFeedback é usado para calcular o NPS a partir de uma lista de Feedbacks.\n",
        "A POO fornece uma abstração mais clara dos dados e comportamentos envolvidos no cálculo do NPS.\n",
        "Desta forma, nossa solução estará preparada para as evoluções do nosso projeto.\n",
        "\"\"\"\n",
        "\n",
        "import pandas as pd\n",
        "\n",
        "class Feedback:\n",
        "  def __init__(self, nota, comentario):\n",
        "    self.nota = nota\n",
        "    self.comentario = comentario\n",
        "\n",
        "class AnalisadorFeedback:\n",
        "  def __init__(self, feedbacks):\n",
        "    self.feedbacks = feedbacks\n",
        "\n",
        "  def calcular_nps(self):\n",
        "    detratores = sum([1 for feedback in self.feedbacks if feedback.nota <= 6])\n",
        "    promotores = sum([1 for feedback in self.feedbacks if feedback.nota >= 9])\n",
        "\n",
        "    nps = (promotores - detratores) / len(self.feedbacks) * 100\n",
        "    return nps\n",
        "\n",
        "feedbacks = [Feedback(linha['nota'], linha['comentario']) for indice, linha in dados.iterrows()]\n",
        "\n",
        "analisador = AnalisadorFeedback(feedbacks)\n",
        "nps = analisador.calcular_nps()\n",
        "\n",
        "print(f'O nps é: {nps}')"
      ],
      "metadata": {
        "id": "Rzhk-sOXrwJb",
        "colab": {
          "base_uri": "https://localhost:8080/"
        },
        "outputId": "4f1cf534-6da1-4b4b-e349-6dacd06ef791"
      },
      "execution_count": 30,
      "outputs": [
        {
          "output_type": "stream",
          "name": "stdout",
          "text": [
            "O nps é: 57.14285714285714\n"
          ]
        }
      ]
    },
    {
      "cell_type": "markdown",
      "source": [
        "## Dia 2: Desvendando o Poder dos Seus Dados com Python\n",
        "\n",
        "No segundo dia, vamos conectar nosso Google Colab ao Google Drive, extrair dados do NPS e aplicar as técnicas de ETL (Extração, Transformação e Carregamento) nesses dados. Com a ajuda da biblioteca matplotlib, criaremos gráficos para visualizar e compreender o nível de satisfação dos nossos usuários."
      ],
      "metadata": {
        "id": "ekkcgs-nujuG"
      }
    },
    {
      "cell_type": "code",
      "source": [
        "import matplotlib.pyplot as plt\n",
        "import matplotlib.patches as mpatches\n",
        "\n",
        "# Definição das constantes que usaremos para visualizar o NPS\n",
        "NPS_ZONAS =   ['Crítico', 'Aperfeiçoamento', 'Qualidade', 'Excelência']\n",
        "NPS_VALORES = [-100, 0, 50, 75, 100]\n",
        "NPS_CORES =   ['#FF595E', '#FFCA3A', '#8AC926', '#1982C4']\n",
        "\n",
        "# TODO: Criar um gráfico usando \"matplotlib\" para visualizar o NPS que calculamos no Dia 1!\n",
        "def criar_grafico_nps(nps):\n",
        "  fig, ax = plt.subplots(figsize=(10,2))\n",
        "\n",
        "  for i, zona in enumerate(NPS_ZONAS):\n",
        "    ax.barh([0], width=NPS_VALORES[i+1]-NPS_VALORES[i], left=NPS_VALORES[i], color=NPS_CORES[i])\n",
        "\n",
        "  ax.barh([0], width=1, left=nps, color='black')\n",
        "  ax.set_yticks([])\n",
        "  ax.set_xlim(-100, 100)\n",
        "  ax.set_xticks(NPS_VALORES)\n",
        "\n",
        "  plt.text(nps, 0, f'NPS = {nps:.2f}', ha='center', va='center', color='white', bbox=dict(facecolor='black'))\n",
        "\n",
        "  patches = [mpatches.Patch(color=NPS_CORES[i], label=NPS_ZONAS[i]) for i in range(len(NPS_ZONAS))]\n",
        "  plt.legend(handles=patches, bbox_to_anchor=(1,1))\n",
        "\n",
        "  plt.title('Gráfico de NPS da Ifood Dev Week')\n",
        "\n",
        "  plt.show()\n",
        "\n",
        "criar_grafico_nps(nps)"
      ],
      "metadata": {
        "colab": {
          "base_uri": "https://localhost:8080/",
          "height": 237
        },
        "id": "lAz4McfOQEsv",
        "outputId": "1bbb029e-acac-471d-d2c8-8b64e36d8d43"
      },
      "execution_count": 31,
      "outputs": [
        {
          "output_type": "display_data",
          "data": {
            "text/plain": [
              "<Figure size 1000x200 with 1 Axes>"
            ],
            "image/png": "[encoded data removed]"
          },
          "metadata": {}
        }
      ]
    },
    {
      "cell_type": "markdown",
      "source": [
        "## Dia 3: Decifrando Sentimentos com Inteligência Artificial (IA)\n",
        "\n",
        "No último dia, vamos utilizar as técnicas de Processamento de Linguagem Natural (PLN) para analisar os sentimentos expressos nos comentários associados às notas de NPS. Dessa forma, teremos uma perspectiva qualitativa que complementa nossos dados quantitativos."
      ],
      "metadata": {
        "id": "jHl6lLS1usU1"
      }
    }
  ]
}